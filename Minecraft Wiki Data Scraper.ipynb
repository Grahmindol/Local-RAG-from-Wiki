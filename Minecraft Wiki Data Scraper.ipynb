{
 "cells": [
  {
   "cell_type": "markdown",
   "metadata": {},
   "source": [
    "# Minecraft Wiki Loader Notebook\n",
    "This notebook demonstrates how to fetch and process data from the French Minecraft Wiki using Python. It contains various functions and a custom loader class for extracting and processing wiki data."
   ]
  },
  {
   "cell_type": "markdown",
   "metadata": {},
   "source": [
    "## Importing Necessary Libraries\n",
    "The libraries used in this notebook include:\n",
    "- `requests` for making HTTP requests\n",
    "- `BeautifulSoup` for parsing HTML content\n",
    "- Classes from `langchain_core` for handling documents and loaders"
   ]
  },
  {
   "cell_type": "code",
   "execution_count": 1,
   "metadata": {},
   "outputs": [],
   "source": [
    "from typing import AsyncIterator, Iterator\n",
    "import requests\n",
    "from bs4 import BeautifulSoup\n",
    "from rich.progress import Progress\n",
    "\n",
    "import ollama\n",
    "\n",
    "from langchain_core.document_loaders import BaseLoader\n",
    "from langchain_core.documents import Document\n",
    "\n",
    "from langchain.vectorstores import Chroma\n",
    "from langchain_community.embeddings import OllamaEmbeddings"
   ]
  },
  {
   "cell_type": "markdown",
   "metadata": {},
   "source": [
    "## Fetching Revision IDs\n",
    "The `fetch_rvid` function retrieves the revision ID of a wiki page as of a specified date. This is essential for accessing historical content."
   ]
  },
  {
   "cell_type": "code",
   "execution_count": 2,
   "metadata": {},
   "outputs": [],
   "source": [
    "headers = {\"User-Agent\": \"MyScript/1.0 (myemail@example.com)\"}\n",
    "\n",
    "def fetch_rvid(title, date=\"2021-01-01T00:00:00.000Z\", api = \"https://fr.minecraft.wiki/api.php\"):\n",
    "    # API request parameters\n",
    "    params = {\n",
    "        \"action\": \"query\",\n",
    "        \"format\": \"json\",\n",
    "        \"prop\": \"revisions\",\n",
    "        \"titles\": title,\n",
    "        \"formatversion\": \"2\",\n",
    "        \"rvprop\": \"ids\",\n",
    "        \"rvlimit\": \"1\",\n",
    "        \"rvstart\": date,\n",
    "        \"rvdir\": \"older\"\n",
    "    }\n",
    "\n",
    "    # Make the API request\n",
    "    response = requests.get(api, params=params, headers=headers)\n",
    "\n",
    "    # Check if the response was successful\n",
    "    if response.status_code == 200:\n",
    "        data = response.json()\n",
    "        \n",
    "        # Extract the revisions data safely\n",
    "        pages = data.get(\"query\", {}).get(\"pages\", [])\n",
    "        if pages:\n",
    "            page_info = pages[0]\n",
    "            revisions = page_info.get(\"revisions\", [])\n",
    "            \n",
    "            if revisions:\n",
    "                # Return the revision ID if found\n",
    "                return revisions[0].get(\"revid\", None)\n",
    "    \n",
    "    # Return None if no revisions are found or if there's an issue\n",
    "    return None"
   ]
  },
  {
   "cell_type": "markdown",
   "metadata": {},
   "source": [
    "## Fetching Category Members\n",
    "The `fetch_category_members` function retrieves the titles of all pages within a specified category. It handles pagination if the number of pages exceeds the API's limit."
   ]
  },
  {
   "cell_type": "code",
   "execution_count": 3,
   "metadata": {},
   "outputs": [],
   "source": [
    "\n",
    "\n",
    "def fetch_category_members(category, limit=500 , api = \"https://fr.minecraft.wiki/api.php\"):\n",
    "    members = []\n",
    "    cmcontinue = None\n",
    "\n",
    "    while True:\n",
    "        # API request parameters\n",
    "        params = {\n",
    "            \"action\": \"query\",\n",
    "            \"list\": \"categorymembers\",\n",
    "            \"cmtitle\": category,\n",
    "            \"cmlimit\": limit,\n",
    "            \"format\": \"json\",\n",
    "            \"cmtype\": \"page\",\n",
    "        }\n",
    "        if cmcontinue:\n",
    "            params[\"cmcontinue\"] = cmcontinue\n",
    "\n",
    "        # Make the API request\n",
    "        response = requests.get(api, params=params, headers=headers)\n",
    "        data = response.json()\n",
    "\n",
    "        # Collect members\n",
    "        members.extend([page[\"title\"] for page in data.get(\"query\", {}).get(\"categorymembers\", [])])\n",
    "        \n",
    "        # Check if more pages are available\n",
    "        cmcontinue = data.get(\"continue\", {}).get(\"cmcontinue\")\n",
    "        if not cmcontinue:\n",
    "            break\n",
    "    return members"
   ]
  },
  {
   "cell_type": "markdown",
   "metadata": {},
   "source": [
    "## Fetching Page Content\n",
    "The `fetch_page_content` function fetches the HTML content of a wiki page at a specific revision. It extracts and prettifies the content using `BeautifulSoup`."
   ]
  },
  {
   "cell_type": "code",
   "execution_count": 4,
   "metadata": {},
   "outputs": [],
   "source": [
    "def fetch_page_content(title : str,rvid = \"\", vrb = True, baseURL = \"https://fr.minecraft.wiki\"):\n",
    "    page_url = f\"{baseURL}/w/{title.replace(' ', '_')}?oldid={rvid}\"\n",
    "    if vrb:\n",
    "        print(f\"collecting data from : {page_url}\")\n",
    "    \n",
    "    response = requests.get(page_url, headers=headers)\n",
    "    \n",
    "    if response.status_code != 200:\n",
    "        print(f\"Error: Unable to fetch the page. Status code {response.status_code}\")\n",
    "        return page_url, None\n",
    "    \n",
    "    # Parse the HTML content\n",
    "    soup = BeautifulSoup(response.content, 'html.parser')\n",
    "    soup.prettify(formatter=\"html5\")\n",
    "    \n",
    "    return  page_url, soup.select_one('#mw-content-text') \n"
   ]
  },
  {
   "cell_type": "markdown",
   "metadata": {},
   "source": [
    "## Text Processing Functions\n",
    "These utility functions determine whether a paragraph is worth extracting (`is_textable`) and clean up the text (`textify`)."
   ]
  },
  {
   "cell_type": "code",
   "execution_count": 5,
   "metadata": {},
   "outputs": [],
   "source": [
    "def is_textable(p : BeautifulSoup):\n",
    "    text = p.get_text()\n",
    "    if(not text):\n",
    "       return False\n",
    "    length = len( text.strip())\n",
    "    return  ((length > 30) and # skip things like \"Alambic/BS\" witch is useless\n",
    "            (not text.strip().endswith(\":\")) and # skip <p> follawed by array or image\n",
    "            (not text.strip().startswith(\"Erreur\")) and # skip error message <p>\n",
    "            (length > 100 or \"true\" == ollama.generate(model = 'qwen2.5:3b', prompt=f\"You are a JSON API, responding with either true or false only to the question: \\\"Does this contain useful information?\\\" Input : {input}\").response)\n",
    "        )\n",
    "\n",
    "def textify(p : BeautifulSoup):\n",
    "    text = p.get_text().replace('\\n', ' ').replace('  ', ' ')\n",
    "    return text.lower()"
   ]
  },
  {
   "cell_type": "markdown",
   "metadata": {},
   "source": [
    "## Loader Class\n",
    "The `MinecraftWikiLoader` class processes wiki pages within specified categories. It lazily loads paragraphs as `Document` objects for further use."
   ]
  },
  {
   "cell_type": "code",
   "execution_count": 6,
   "metadata": {},
   "outputs": [],
   "source": [
    "class MinecraftWikiLoader(BaseLoader):\n",
    "    #[\"Catégorie:Bloc\",\"Catégorie:Environnement\",\"Catégorie:Gameplay\",\"Catégorie:Objets\",\"Catégorie:Redstone\",\"Catégorie:Entitée\"]\n",
    "    def __init__(self, categorys = [\"Category:Blocks\", \"Category:Environment\", \"Category:Gameplay\", \"Category:Redstone\", \"Category:Entities\"],date=\"2021-01-01T00:00:00.000Z\", lang = \"en\") -> None:\n",
    "        \"\"\"Initialize the loader\n",
    "        \"\"\"\n",
    "        self.categorys_page = []\n",
    "        pages = []\n",
    "        self.baseURL = f\"https://{lang}.minecraft.wiki\"\n",
    "        self.api = f\"{self.baseURL}/api.php\"\n",
    "\n",
    "        print(\"Getting all pages...\")\n",
    "        for str in categorys:\n",
    "            for page in fetch_category_members(str,api = self.api):\n",
    "                pages.append(page)\n",
    "        pages = list(set(pages)) # supprime les doublons\n",
    "        with Progress() as progress:\n",
    "            task = progress.add_task(\"[cyan]Sorting Pages...\", total=len(pages))\n",
    "            for page in pages:\n",
    "                rvid = fetch_rvid(page,date=date, api= self.api)\n",
    "                if rvid:\n",
    "                    self.categorys_page.append({\"title\":page,\"id\":rvid}) \n",
    "                progress.update(task, advance=1)\n",
    "            progress.stop_task(task)\n",
    "        self.page_count = len(self.categorys_page)\n",
    "\n",
    "    def lazy_load(self) -> Iterator[Document]:  # <-- Does not take any arguments\n",
    "        \"\"\"A lazy loader that reads a page <p> by <p>\n",
    "        \"\"\"\n",
    "        with Progress() as progress:\n",
    "            task = progress.add_task(\"[cyan]Processing Pages...\", total=self.page_count)\n",
    "            for page in self.categorys_page:\n",
    "                page_url, page_content = fetch_page_content(page[\"title\"],rvid=page[\"id\"],vrb=False, baseURL= self.baseURL)\n",
    "                paragraphs = []\n",
    "                if page_content:\n",
    "                    paragraphs = page_content.select('div.mw-parser-output > p')\n",
    "                paragraph_number = 0\n",
    "                for p in paragraphs:\n",
    "                    if is_textable(p):\n",
    "                        yield Document(\n",
    "                            page_content=textify(p),\n",
    "                            metadata={\"title\": page[\"title\"], \"source\": page_url},\n",
    "                        )\n",
    "                        paragraph_number += 1\n",
    "                progress.update(task, advance=1)\n",
    "            progress.stop_task(task)\n",
    "                "
   ]
  },
  {
   "cell_type": "markdown",
   "metadata": {},
   "source": [
    "## Loader Initialization and Testing\n",
    "Here, the `MinecraftWikiLoader` is initialized and tested by collecting the first 20 paragraphs from the specified categories."
   ]
  },
  {
   "cell_type": "code",
   "execution_count": 7,
   "metadata": {},
   "outputs": [
    {
     "name": "stderr",
     "output_type": "stream",
     "text": [
      "C:\\Users\\noeay\\AppData\\Local\\Temp\\ipykernel_13152\\1867760795.py:2: LangChainDeprecationWarning: The class `OllamaEmbeddings` was deprecated in LangChain 0.3.1 and will be removed in 1.0.0. An updated version of the class exists in the :class:`~langchain-ollama package and should be used instead. To use it run `pip install -U :class:`~langchain-ollama` and import as `from :class:`~langchain_ollama import OllamaEmbeddings``.\n",
      "  db_data = Chroma(persist_directory= \"./chroma_db_en_V2\",embedding_function= OllamaEmbeddings(model=model_name,show_progress=True),collection_name=\"data\")\n",
      "C:\\Users\\noeay\\AppData\\Local\\Temp\\ipykernel_13152\\1867760795.py:2: LangChainDeprecationWarning: The class `Chroma` was deprecated in LangChain 0.2.9 and will be removed in 1.0. An updated version of the class exists in the :class:`~langchain-chroma package and should be used instead. To use it run `pip install -U :class:`~langchain-chroma` and import as `from :class:`~langchain_chroma import Chroma``.\n",
      "  db_data = Chroma(persist_directory= \"./chroma_db_en_V2\",embedding_function= OllamaEmbeddings(model=model_name,show_progress=True),collection_name=\"data\")\n"
     ]
    }
   ],
   "source": [
    "model_name = \"mxbai-embed-large\"\n",
    "db_data = Chroma(persist_directory= \"./chroma_db_en_V2\",embedding_function= OllamaEmbeddings(model=model_name,show_progress=True),collection_name=\"data\")\n"
   ]
  },
  {
   "cell_type": "code",
   "execution_count": null,
   "metadata": {},
   "outputs": [
    {
     "name": "stdout",
     "output_type": "stream",
     "text": [
      "Getting all pages...\n"
     ]
    },
    {
     "data": {
      "application/vnd.jupyter.widget-view+json": {
       "model_id": "2c1f1cfdbb624e00946e6eda4aed1e0a",
       "version_major": 2,
       "version_minor": 0
      },
      "text/plain": [
       "Output()"
      ]
     },
     "metadata": {},
     "output_type": "display_data"
    },
    {
     "data": {
      "text/html": [
       "<pre style=\"white-space:pre;overflow-x:auto;line-height:normal;font-family:Menlo,'DejaVu Sans Mono',consolas,'Courier New',monospace\"></pre>\n"
      ],
      "text/plain": []
     },
     "metadata": {},
     "output_type": "display_data"
    },
    {
     "data": {
      "application/vnd.jupyter.widget-view+json": {
       "model_id": "2316c54aceec428bbffeca8cd90a4967",
       "version_major": 2,
       "version_minor": 0
      },
      "text/plain": [
       "Output()"
      ]
     },
     "metadata": {},
     "output_type": "display_data"
    }
   ],
   "source": [
    "loader =  MinecraftWikiLoader() # peut prendre un moment le temp de trié les page.... 3 min en général\n",
    "loader.page_count\n",
    "db_data.add_documents(loader.lazy_load())"
   ]
  },
  {
   "cell_type": "code",
   "execution_count": null,
   "metadata": {},
   "outputs": [],
   "source": [
    "for document in loader.lazy_load():\n",
    "    try:\n",
    "        db_data.add_documents([document])\n",
    "    except: \n",
    "        print(\"Error on : \", document)\n",
    "        \n",
    "db_data.persist()\n"
   ]
  },
  {
   "cell_type": "code",
   "execution_count": 8,
   "metadata": {},
   "outputs": [],
   "source": [
    "retriever = db_data.as_retriever(search_kwargs={\"k\": 10})"
   ]
  },
  {
   "cell_type": "code",
   "execution_count": null,
   "metadata": {},
   "outputs": [],
   "source": [
    "retriever.invoke(\"\")"
   ]
  }
 ],
 "metadata": {
  "kernelspec": {
   "display_name": "Python 3",
   "language": "python",
   "name": "python3"
  },
  "language_info": {
   "codemirror_mode": {
    "name": "ipython",
    "version": 3
   },
   "file_extension": ".py",
   "mimetype": "text/x-python",
   "name": "python",
   "nbconvert_exporter": "python",
   "pygments_lexer": "ipython3",
   "version": "3.11.9"
  }
 },
 "nbformat": 4,
 "nbformat_minor": 2
}
