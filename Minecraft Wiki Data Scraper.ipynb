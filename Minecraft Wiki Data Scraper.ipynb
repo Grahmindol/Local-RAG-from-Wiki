{
 "cells": [
  {
   "cell_type": "markdown",
   "metadata": {},
   "source": [
    "# Minecraft Wiki Loader Notebook\n",
    "This notebook demonstrates how to fetch and process data from the French Minecraft Wiki using Python. It contains various functions and a custom loader class for extracting and processing wiki data."
   ]
  },
  {
   "cell_type": "markdown",
   "metadata": {},
   "source": [
    "## Importing Necessary Libraries\n",
    "The libraries used in this notebook include:\n",
    "- `requests` for making HTTP requests\n",
    "- `BeautifulSoup` for parsing HTML content\n",
    "- Classes from `langchain_core` for handling documents and loaders"
   ]
  },
  {
   "cell_type": "code",
   "execution_count": null,
   "metadata": {},
   "outputs": [],
   "source": [
    "from typing import AsyncIterator, Iterator\n",
    "import requests\n",
    "from bs4 import BeautifulSoup\n",
    "from rich.progress import Progress\n",
    "\n",
    "from langchain_core.document_loaders import BaseLoader\n",
    "from langchain_core.documents import Document\n",
    "\n",
    "from langchain.vectorstores import Chroma\n",
    "from langchain_community.embeddings import OllamaEmbeddings"
   ]
  },
  {
   "cell_type": "markdown",
   "metadata": {},
   "source": [
    "## Fetching Revision IDs\n",
    "The `fetch_rvid` function retrieves the revision ID of a wiki page as of a specified date. This is essential for accessing historical content."
   ]
  },
  {
   "cell_type": "code",
   "execution_count": null,
   "metadata": {},
   "outputs": [],
   "source": [
    "headers = {\"User-Agent\": \"MyScript/1.0 (myemail@example.com)\"}\n",
    "\n",
    "def fetch_rvid(title, date=\"2021-01-01T00:00:00.000Z\"):\n",
    "    # API request parameters\n",
    "    params = {\n",
    "        \"action\": \"query\",\n",
    "        \"format\": \"json\",\n",
    "        \"prop\": \"revisions\",\n",
    "        \"titles\": title,\n",
    "        \"formatversion\": \"2\",\n",
    "        \"rvprop\": \"ids\",\n",
    "        \"rvlimit\": \"1\",\n",
    "        \"rvstart\": date,\n",
    "        \"rvdir\": \"older\"\n",
    "    }\n",
    "\n",
    "    # Make the API request\n",
    "    response = requests.get(\"https://fr.minecraft.wiki/api.php\", params=params, headers=headers)\n",
    "\n",
    "    # Check if the response was successful\n",
    "    if response.status_code == 200:\n",
    "        data = response.json()\n",
    "        \n",
    "        # Extract the revisions data safely\n",
    "        pages = data.get(\"query\", {}).get(\"pages\", [])\n",
    "        if pages:\n",
    "            page_info = pages[0]\n",
    "            revisions = page_info.get(\"revisions\", [])\n",
    "            \n",
    "            if revisions:\n",
    "                # Return the revision ID if found\n",
    "                return revisions[0].get(\"revid\", None)\n",
    "    \n",
    "    # Return None if no revisions are found or if there's an issue\n",
    "    return None"
   ]
  },
  {
   "cell_type": "markdown",
   "metadata": {},
   "source": [
    "## Fetching Category Members\n",
    "The `fetch_category_members` function retrieves the titles of all pages within a specified category. It handles pagination if the number of pages exceeds the API's limit."
   ]
  },
  {
   "cell_type": "code",
   "execution_count": null,
   "metadata": {},
   "outputs": [],
   "source": [
    "\n",
    "\n",
    "def fetch_category_members(category, limit=500):\n",
    "    members = []\n",
    "    cmcontinue = None\n",
    "\n",
    "    while True:\n",
    "        # API request parameters\n",
    "        params = {\n",
    "            \"action\": \"query\",\n",
    "            \"list\": \"categorymembers\",\n",
    "            \"cmtitle\": f\"Catégorie:{category}\",\n",
    "            \"cmlimit\": limit,\n",
    "            \"format\": \"json\",\n",
    "            \"cmtype\": \"page\",\n",
    "        }\n",
    "        if cmcontinue:\n",
    "            params[\"cmcontinue\"] = cmcontinue\n",
    "\n",
    "        # Make the API request\n",
    "        response = requests.get(\"https://fr.minecraft.wiki/api.php\", params=params, headers=headers)\n",
    "        data = response.json()\n",
    "\n",
    "        # Collect members\n",
    "        members.extend([page[\"title\"] for page in data.get(\"query\", {}).get(\"categorymembers\", [])])\n",
    "        \n",
    "        # Check if more pages are available\n",
    "        cmcontinue = data.get(\"continue\", {}).get(\"cmcontinue\")\n",
    "        if not cmcontinue:\n",
    "            break\n",
    "    return members"
   ]
  },
  {
   "cell_type": "markdown",
   "metadata": {},
   "source": [
    "## Fetching Page Content\n",
    "The `fetch_page_content` function fetches the HTML content of a wiki page at a specific revision. It extracts and prettifies the content using `BeautifulSoup`."
   ]
  },
  {
   "cell_type": "code",
   "execution_count": null,
   "metadata": {},
   "outputs": [],
   "source": [
    "def fetch_page_content(title, vrb = True):\n",
    "    page_url = f\"https://fr.minecraft.wiki/w/{title}\"\n",
    "    if vrb:\n",
    "        print(f\"collecting data from : {page_url}\")\n",
    "    \n",
    "    response = requests.get(page_url, headers=headers)\n",
    "    \n",
    "    if response.status_code != 200:\n",
    "        print(f\"Error: Unable to fetch the page. Status code {response.status_code}\")\n",
    "        return page_url, None\n",
    "    \n",
    "    # Parse the HTML content\n",
    "    soup = BeautifulSoup(response.content, 'html.parser')\n",
    "    soup.prettify(formatter=\"html5\")\n",
    "    \n",
    "    return  page_url, soup.select_one('#mw-content-text') \n"
   ]
  },
  {
   "cell_type": "markdown",
   "metadata": {},
   "source": [
    "## Text Processing Functions\n",
    "These utility functions determine whether a paragraph is worth extracting (`is_textable`) and clean up the text (`textify`)."
   ]
  },
  {
   "cell_type": "code",
   "execution_count": null,
   "metadata": {},
   "outputs": [],
   "source": [
    "def is_textable(p):\n",
    "    return  (p.get_text() and p.get_text().replace('\\n', ' ').strip() != \"\" and  # skip empty <p>\n",
    "            (not p.get_text().strip().endswith(\":\")) and # skip <p> follawed by array or image\n",
    "            (not p.get_text().strip().startswith(\"Erreur\")) and # skip error message <p>\n",
    "            len( p.get_text().strip()) > 30 # skip things like \"Alambic/BS\" witch is useless\n",
    "        )\n",
    "\n",
    "def textify(p):\n",
    "    text = p.get_text().replace('\\n', ' ').replace('  ', ' ')\n",
    "    return text"
   ]
  },
  {
   "cell_type": "markdown",
   "metadata": {},
   "source": [
    "## Loader Class\n",
    "The `MinecraftWikiLoader` class processes wiki pages within specified categories. It lazily loads paragraphs as `Document` objects for further use."
   ]
  },
  {
   "cell_type": "code",
   "execution_count": null,
   "metadata": {},
   "outputs": [],
   "source": [
    "class MinecraftWikiLoader(BaseLoader):\n",
    "\n",
    "    def __init__(self, categorys = [\"Bloc\",\"Environnement\",\"Gameplay\",\"Objets\",\"Redstone\",\"Entitée\"],date=\"2021-01-01T00:00:00.000Z\") -> None:\n",
    "        \"\"\"Initialize the loader\n",
    "        \"\"\"\n",
    "        self.categorys_page = []\n",
    "        for str in categorys:\n",
    "            for page in fetch_category_members(str):\n",
    "                rvid = fetch_rvid(page,date=date)\n",
    "                if rvid:\n",
    "                    self.categorys_page.append(f\"{page.replace(' ', '_')}?oldid={rvid}\") \n",
    "        self.categorys_page = list(set(self.categorys_page)) # supprime les doublons\n",
    "        self.page_count = len(self.categorys_page)\n",
    "\n",
    "    def lazy_load(self) -> Iterator[Document]:  # <-- Does not take any arguments\n",
    "        \"\"\"A lazy loader that reads a page <p> by <p>\n",
    "        \"\"\"\n",
    "        for page in self.categorys_page:\n",
    "            page_url, page_content = fetch_page_content(page,vrb=False)\n",
    "            paragraphs = []\n",
    "            if page_content:\n",
    "                paragraphs = page_content.select('div.mw-parser-output > p')\n",
    "            paragraph_number = 0\n",
    "            for p in paragraphs:\n",
    "                if is_textable(p):\n",
    "                    yield Document(\n",
    "                        page_content=textify(p),\n",
    "                        metadata={\"paragraph_number\": paragraph_number, \"source\": page_url},\n",
    "                    )\n",
    "                    paragraph_number += 1\n",
    "            \n",
    "                "
   ]
  },
  {
   "cell_type": "markdown",
   "metadata": {},
   "source": [
    "## Loader Initialization and Testing\n",
    "Here, the `MinecraftWikiLoader` is initialized and tested by collecting the first 20 paragraphs from the specified categories."
   ]
  },
  {
   "cell_type": "code",
   "execution_count": null,
   "metadata": {},
   "outputs": [],
   "source": [
    "loader =  MinecraftWikiLoader() # peut prendre un moment le temp de trié les page.... 3 min en général"
   ]
  },
  {
   "cell_type": "code",
   "execution_count": null,
   "metadata": {},
   "outputs": [],
   "source": [
    "loader.page_count"
   ]
  },
  {
   "cell_type": "code",
   "execution_count": null,
   "metadata": {},
   "outputs": [],
   "source": [
    "model_name = \"mxbai-embed-large\"\n",
    "db = Chroma(persist_directory= \"./chroma_db\",embedding_function= OllamaEmbeddings(model=model_name))"
   ]
  },
  {
   "cell_type": "code",
   "execution_count": null,
   "metadata": {},
   "outputs": [],
   "source": [
    "\n",
    "\n",
    "with Progress() as progress:\n",
    "    task = progress.add_task(\"[cyan]Processing Pages...\", total=loader.page_count)\n",
    "    for document in loader.lazy_load():\n",
    "        try:\n",
    "            db.add_documents([document])\n",
    "        except: \n",
    "            print(\"Error on : \", document)\n",
    "        progress.update(task, advance=1)\n",
    "db.persist()\n"
   ]
  },
  {
   "cell_type": "code",
   "execution_count": null,
   "metadata": {},
   "outputs": [],
   "source": [
    "db._collection.count()"
   ]
  },
  {
   "cell_type": "code",
   "execution_count": null,
   "metadata": {},
   "outputs": [],
   "source": [
    "retriever = db.as_retriever(search_kwargs={\"k\": 10})"
   ]
  },
  {
   "cell_type": "code",
   "execution_count": null,
   "metadata": {},
   "outputs": [],
   "source": [
    "retriever.invoke(\"dans une balise\")"
   ]
  }
 ],
 "metadata": {
  "kernelspec": {
   "display_name": "Python 3",
   "language": "python",
   "name": "python3"
  },
  "language_info": {
   "codemirror_mode": {
    "name": "ipython",
    "version": 3
   },
   "file_extension": ".py",
   "mimetype": "text/x-python",
   "name": "python",
   "nbconvert_exporter": "python",
   "pygments_lexer": "ipython3",
   "version": "3.11.9"
  }
 },
 "nbformat": 4,
 "nbformat_minor": 2
}
